{
 "cells": [
  {
   "cell_type": "code",
   "execution_count": 1,
   "metadata": {},
   "outputs": [],
   "source": [
    "import cv2\n",
    "import pandas as pd \n",
    "import numpy as np\n",
    "import face_recognition\n",
    "from datetime import datetime"
   ]
  },
  {
   "cell_type": "code",
   "execution_count": 2,
   "metadata": {},
   "outputs": [],
   "source": [
    "import os"
   ]
  },
  {
   "cell_type": "code",
   "execution_count": 3,
   "metadata": {},
   "outputs": [
    {
     "name": "stdout",
     "output_type": "stream",
     "text": [
      "['billgate.jpg', 'elon_musk1.jpg', 'Jack ma.jpg', 'Mukhtar.jpg']\n"
     ]
    }
   ],
   "source": [
    "path='Imageauth/'\n",
    "Image=[]\n",
    "classNames=[]\n",
    "myList=os.listdir(path)\n",
    "print(myList)"
   ]
  },
  {
   "cell_type": "code",
   "execution_count": 4,
   "metadata": {},
   "outputs": [
    {
     "name": "stdout",
     "output_type": "stream",
     "text": [
      "['billgate', 'elon_musk1', 'Jack ma', 'Mukhtar']\n"
     ]
    }
   ],
   "source": [
    "for cl in myList:\n",
    "    curImg=cv2.imread(f'{path}/{cl}')\n",
    "    Image.append(curImg)\n",
    "    classNames.append(os.path.splitext(cl)[0])\n",
    "print(classNames)"
   ]
  },
  {
   "cell_type": "code",
   "execution_count": null,
   "metadata": {},
   "outputs": [
    {
     "name": "stdout",
     "output_type": "stream",
     "text": [
      "Encoding Complete\n"
     ]
    }
   ],
   "source": [
    "#find Encoding\n",
    "\n",
    "def findEncoding(Image):\n",
    "    encodelist=[]\n",
    "    for img in Image:\n",
    "        img=cv2.cvtColor(img,cv2.COLOR_BGR2RGB)\n",
    "        encode=face_recognition.face_encodings(img)[0]\n",
    "        encodelist.append(encode)\n",
    "    return encodelist\n",
    "\n",
    "encodelistKnown=findEncoding(Image)\n",
    "print(\"Encoding Complete\")"
   ]
  },
  {
   "cell_type": "code",
   "execution_count": null,
   "metadata": {},
   "outputs": [],
   "source": [
    "def markAttendance(name):\n",
    "    with open('Attendance.csv','r+')as f:\n",
    "        mydatalist=f.readlines()\n",
    "        nameslist=[]\n",
    "        #print(mydatalist)\n",
    "        for line in mydatalist:\n",
    "            entry=line.split(',')\n",
    "            nameslist.append(entry[0])\n",
    "        if name not in nameslist:\n",
    "            now=datetime.now()\n",
    "            dtstring=now.strftime('%H:%M:%S')\n",
    "            f.writelines(f'\\n{name}.{dtstring}')\n",
    "            \n",
    "       "
   ]
  },
  {
   "cell_type": "code",
   "execution_count": null,
   "metadata": {},
   "outputs": [
    {
     "name": "stdout",
     "output_type": "stream",
     "text": [
      "[0.91742286 0.83364632 0.82751803 0.36076057]\n",
      "MUKHTAR\n",
      "[0.92793631 0.8617123  0.79336703 0.38678995]\n",
      "MUKHTAR\n",
      "[0.94682647 0.87380244 0.823163   0.44538803]\n",
      "MUKHTAR\n",
      "[0.93164064 0.89967771 0.82567507 0.43709267]\n",
      "MUKHTAR\n",
      "[0.94311477 0.87968036 0.82596089 0.4685847 ]\n",
      "MUKHTAR\n",
      "[0.93398204 0.86642868 0.80945503 0.40460036]\n",
      "MUKHTAR\n",
      "[0.92887529 0.86983882 0.78136913 0.40357891]\n",
      "MUKHTAR\n",
      "[0.92834996 0.86272616 0.80633779 0.41746185]\n",
      "MUKHTAR\n",
      "[0.88027693 0.83857246 0.8221497  0.39367193]\n",
      "MUKHTAR\n",
      "[0.88604441 0.82571502 0.77925655 0.43334653]\n",
      "MUKHTAR\n",
      "[0.9222215  0.80956335 0.79254257 0.40045631]\n",
      "MUKHTAR\n",
      "[0.93361611 0.83719586 0.82628378 0.38324427]\n",
      "MUKHTAR\n",
      "[0.8973839  0.80912272 0.79349439 0.37211562]\n",
      "MUKHTAR\n",
      "[0.87902643 0.83448927 0.80924832 0.4133455 ]\n",
      "MUKHTAR\n",
      "[0.88711604 0.83511645 0.81202046 0.40972808]\n",
      "MUKHTAR\n",
      "[0.91026663 0.84591119 0.842032   0.4018243 ]\n",
      "MUKHTAR\n",
      "[0.94030067 0.89883924 0.82815526 0.46657781]\n",
      "MUKHTAR\n",
      "[0.92737137 0.85787815 0.85105    0.41790637]\n",
      "MUKHTAR\n",
      "[0.91566878 0.85186266 0.84100302 0.38728627]\n",
      "MUKHTAR\n",
      "[0.88539759 0.85347333 0.80103377 0.44358989]\n",
      "MUKHTAR\n",
      "[0.8890903  0.82859801 0.82951033 0.38271003]\n",
      "MUKHTAR\n",
      "[0.9479233  0.84970249 0.7953552  0.39037871]\n",
      "MUKHTAR\n",
      "[0.94665217 0.83972565 0.82018142 0.38108971]\n",
      "MUKHTAR\n",
      "[0.94274035 0.86436185 0.8491103  0.420553  ]\n",
      "MUKHTAR\n",
      "[0.93072333 0.84482357 0.82100866 0.37137232]\n",
      "MUKHTAR\n",
      "[0.92629133 0.86143764 0.79534054 0.38321524]\n",
      "MUKHTAR\n",
      "[0.91865722 0.83350788 0.8428787  0.42085198]\n",
      "MUKHTAR\n",
      "[0.91438686 0.82170225 0.82689137 0.42846979]\n",
      "MUKHTAR\n",
      "[0.92546073 0.83420796 0.84421004 0.43797956]\n",
      "MUKHTAR\n",
      "[0.91402993 0.83150088 0.85322004 0.39960611]\n",
      "MUKHTAR\n",
      "[0.84599338 0.80993542 0.78986522 0.44415742]\n",
      "MUKHTAR\n",
      "[0.89171747 0.76669721 0.75921332 0.4964569 ]\n",
      "MUKHTAR\n",
      "[0.9433926  0.85024249 0.7736836  0.36731818]\n",
      "MUKHTAR\n",
      "[0.960927   0.88906591 0.84142958 0.4174715 ]\n",
      "MUKHTAR\n",
      "[0.97016641 0.88423955 0.81084467 0.38849017]\n",
      "MUKHTAR\n",
      "[0.97900921 0.88896748 0.79013    0.40561201]\n",
      "MUKHTAR\n",
      "[0.97192888 0.91133364 0.83792848 0.42729238]\n",
      "MUKHTAR\n",
      "[0.93159032 0.85640396 0.80587264 0.39079102]\n",
      "MUKHTAR\n",
      "[0.93919044 0.86587829 0.81204387 0.41132946]\n",
      "MUKHTAR\n",
      "[0.93452404 0.88145125 0.82172381 0.39917526]\n",
      "MUKHTAR\n",
      "[0.93618851 0.88029677 0.83193845 0.41395436]\n",
      "MUKHTAR\n",
      "[0.92639936 0.86128774 0.81247021 0.45280761]\n",
      "MUKHTAR\n",
      "[0.93314553 0.87181137 0.83383971 0.43396743]\n",
      "MUKHTAR\n",
      "[0.90605496 0.85662479 0.84400982 0.44272838]\n",
      "MUKHTAR\n",
      "[0.92274189 0.82954528 0.81870919 0.36038819]\n",
      "MUKHTAR\n",
      "[0.88572704 0.80260862 0.82827995 0.51051123]\n",
      "MUKHTAR\n",
      "[0.90700115 0.82295365 0.80969166 0.45921509]\n",
      "MUKHTAR\n",
      "[0.90377814 0.81137087 0.75014137 0.46483233]\n",
      "MUKHTAR\n",
      "[0.89168754 0.836469   0.82978348 0.37713888]\n",
      "MUKHTAR\n",
      "[0.89300614 0.8406712  0.80327809 0.39064337]\n",
      "MUKHTAR\n",
      "[0.89285569 0.83377874 0.85834117 0.41678203]\n",
      "MUKHTAR\n",
      "[0.91157041 0.81495848 0.83483485 0.38568339]\n",
      "MUKHTAR\n",
      "[0.90907309 0.83473804 0.84829693 0.36278823]\n",
      "MUKHTAR\n",
      "[0.8823139  0.81531689 0.84828605 0.37054183]\n",
      "MUKHTAR\n",
      "[0.94221774 0.84285027 0.85399054 0.34890382]\n",
      "MUKHTAR\n"
     ]
    }
   ],
   "source": [
    "cap=cv2.VideoCapture(0)\n",
    "\n",
    "while True:\n",
    "    success,img=cap.read()\n",
    "    imgS=cv2.resize(img,(0,0),None,0.25,0.25)# resize image cuz we want small img to process\n",
    "    imgS=cv2.cvtColor(imgS, cv2.COLOR_BGR2RGB) # conveting img color\n",
    "    faceCurLoc=face_recognition.face_locations(imgS) #caputre multi faces\n",
    "    encodeCurframe= face_recognition.face_encodings(imgS,faceCurLoc) # encode the milti faces & find right one\n",
    "    \n",
    "    # finding the matches through faces that r found\n",
    "    for encodeFace,faceLoc in zip(encodeCurframe,faceCurLoc):\n",
    "        matchs=face_recognition.compare_faces(encodelistKnown,encodeFace)\n",
    "        facedis=face_recognition.face_distance(encodelistKnown,encodeFace)\n",
    "        print(facedis)\n",
    "        matchIndex=np.argmin(facedis) # it give min. values index the lower the values more acurate match\n",
    "        \n",
    "        if matchs[matchIndex]:\n",
    "            name=classNames[matchIndex].upper()\n",
    "            print(name)\n",
    "            y1,x2,y2,x1=faceLoc\n",
    "            y1,x2,y2,x2=y1*4,x2*4,y2*4,x2*4\n",
    "            cv2.rectangle(img,(x1,y1),(x2,y2),(0,255,0),2)\n",
    "            cv2.rectangle(img,(x1,y2-35),(x2,y2),(0,255,0),cv2.FILLED)\n",
    "            cv2.putText(img,name,(x1+6,y2-6),cv2.FONT_HERSHEY_COMPLEX,1,(255,255,255),2)\n",
    "            markAttendance(name) \n",
    "    \n",
    "    cv2.imshow('webcam',img)\n",
    "    cv2.waitKey(1)\n",
    "    \n",
    "    \n",
    "    "
   ]
  },
  {
   "cell_type": "code",
   "execution_count": null,
   "metadata": {},
   "outputs": [],
   "source": []
  },
  {
   "cell_type": "code",
   "execution_count": null,
   "metadata": {},
   "outputs": [],
   "source": []
  },
  {
   "cell_type": "code",
   "execution_count": null,
   "metadata": {},
   "outputs": [],
   "source": []
  },
  {
   "cell_type": "code",
   "execution_count": null,
   "metadata": {},
   "outputs": [],
   "source": []
  },
  {
   "cell_type": "code",
   "execution_count": null,
   "metadata": {},
   "outputs": [],
   "source": []
  },
  {
   "cell_type": "code",
   "execution_count": null,
   "metadata": {},
   "outputs": [],
   "source": []
  },
  {
   "cell_type": "code",
   "execution_count": null,
   "metadata": {},
   "outputs": [],
   "source": []
  },
  {
   "cell_type": "code",
   "execution_count": null,
   "metadata": {},
   "outputs": [],
   "source": []
  }
 ],
 "metadata": {
  "kernelspec": {
   "display_name": "Python 3",
   "language": "python",
   "name": "python3"
  },
  "language_info": {
   "codemirror_mode": {
    "name": "ipython",
    "version": 3
   },
   "file_extension": ".py",
   "mimetype": "text/x-python",
   "name": "python",
   "nbconvert_exporter": "python",
   "pygments_lexer": "ipython3",
   "version": "3.7.1"
  }
 },
 "nbformat": 4,
 "nbformat_minor": 2
}
